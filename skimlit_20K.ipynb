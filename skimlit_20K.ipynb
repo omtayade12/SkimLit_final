{
  "nbformat": 4,
  "nbformat_minor": 0,
  "metadata": {
    "colab": {
      "name": "skimlit_20K.ipynb",
      "provenance": [],
      "collapsed_sections": [
        "v5TSPXV9YeEU",
        "hMwJ3mPucKxb"
      ],
      "authorship_tag": "ABX9TyP8bV7bv0bFgW6pqFhHfjI6",
      "include_colab_link": true
    },
    "kernelspec": {
      "name": "python3",
      "display_name": "Python 3"
    },
    "language_info": {
      "name": "python"
    },
    "accelerator": "GPU"
  },
  "cells": [
    {
      "cell_type": "markdown",
      "metadata": {
        "id": "view-in-github",
        "colab_type": "text"
      },
      "source": [
        "<a href=\"https://colab.research.google.com/github/vishalrk1/SkimLit/blob/main/skimlit_20K.ipynb\" target=\"_parent\"><img src=\"https://colab.research.google.com/assets/colab-badge.svg\" alt=\"Open In Colab\"/></a>"
      ]
    },
    {
      "cell_type": "markdown",
      "metadata": {
        "id": "505lF8l-H5Nn"
      },
      "source": [
        "# SkimLit\n",
        "\n",
        "**The purpose of this project is to build an NLP Model to make reading medical abstract easier**\n",
        "\n"
      ]
    },
    {
      "cell_type": "code",
      "metadata": {
        "id": "9Mj5AtB-Hwym"
      },
      "source": [
        "import numpy as np\n",
        "import pandas as pd\n",
        "import seaborn as sns\n",
        "import matplotlib.pyplot as plt\n",
        "import tensorflow as tf\n",
        "\n",
        "from tensorflow import keras\n",
        "from tensorflow.keras import layers\n",
        "from tensorflow.keras.optimizers import Adam"
      ],
      "execution_count": 1,
      "outputs": []
    },
    {
      "cell_type": "markdown",
      "metadata": {
        "id": "y9XcXVKQIqpe"
      },
      "source": [
        "## Get Data\n",
        "\n",
        "* Downloading dataset [PubMed RCT200K from Github](https://github.com/Franck-Dernoncourt/pubmed-rct)"
      ]
    },
    {
      "cell_type": "code",
      "metadata": {
        "colab": {
          "base_uri": "https://localhost:8080/"
        },
        "id": "Lh1DEge1IppO",
        "outputId": "6bd3912c-b12f-479f-dc79-b651d6a95ed2"
      },
      "source": [
        "!git clone https://github.com/Franck-Dernoncourt/pubmed-rct\n",
        "!ls pubmed-rct"
      ],
      "execution_count": 2,
      "outputs": [
        {
          "output_type": "stream",
          "name": "stdout",
          "text": [
            "Cloning into 'pubmed-rct'...\n",
            "remote: Enumerating objects: 33, done.\u001b[K\n",
            "remote: Counting objects: 100% (3/3), done.\u001b[K\n",
            "remote: Compressing objects: 100% (3/3), done.\u001b[K\n",
            "remote: Total 33 (delta 0), reused 0 (delta 0), pack-reused 30\u001b[K\n",
            "Unpacking objects: 100% (33/33), done.\n",
            "PubMed_200k_RCT\n",
            "PubMed_200k_RCT_numbers_replaced_with_at_sign\n",
            "PubMed_20k_RCT\n",
            "PubMed_20k_RCT_numbers_replaced_with_at_sign\n",
            "README.md\n"
          ]
        }
      ]
    },
    {
      "cell_type": "code",
      "metadata": {
        "colab": {
          "base_uri": "https://localhost:8080/"
        },
        "id": "q01c76LDJ2-0",
        "outputId": "901e724e-a93e-498f-b653-abb6515041cc"
      },
      "source": [
        "!ls pubmed-rct/PubMed_20k_RCT_numbers_replaced_with_at_sign/"
      ],
      "execution_count": 3,
      "outputs": [
        {
          "output_type": "stream",
          "name": "stdout",
          "text": [
            "dev.txt  test.txt  train.txt\n"
          ]
        }
      ]
    },
    {
      "cell_type": "code",
      "metadata": {
        "id": "_hR3t8FdKR6-"
      },
      "source": [
        "data_dir = '/content/pubmed-rct/PubMed_20k_RCT_numbers_replaced_with_at_sign/'"
      ],
      "execution_count": 4,
      "outputs": []
    },
    {
      "cell_type": "code",
      "metadata": {
        "colab": {
          "base_uri": "https://localhost:8080/"
        },
        "id": "cJf-QaP-Li9p",
        "outputId": "6fa6b890-f164-40c3-d27d-308b32bdf16d"
      },
      "source": [
        "import os\n",
        "\n",
        "filename = [data_dir + filename for filename in os.listdir(data_dir)]\n",
        "filename"
      ],
      "execution_count": 5,
      "outputs": [
        {
          "output_type": "execute_result",
          "data": {
            "text/plain": [
              "['/content/pubmed-rct/PubMed_20k_RCT_numbers_replaced_with_at_sign/train.txt',\n",
              " '/content/pubmed-rct/PubMed_20k_RCT_numbers_replaced_with_at_sign/dev.txt',\n",
              " '/content/pubmed-rct/PubMed_20k_RCT_numbers_replaced_with_at_sign/test.txt']"
            ]
          },
          "metadata": {},
          "execution_count": 5
        }
      ]
    },
    {
      "cell_type": "markdown",
      "metadata": {
        "id": "cfLv8x1LL6Jk"
      },
      "source": [
        "# **Preprocessing Data**\n",
        "\n",
        "* function to read in all of the lines of target text files"
      ]
    },
    {
      "cell_type": "code",
      "metadata": {
        "id": "9bkNus-XLwdr"
      },
      "source": [
        "def get_lines(filename):\n",
        "  with open(filename, \"r\") as f:\n",
        "    return f.readlines()"
      ],
      "execution_count": 6,
      "outputs": []
    },
    {
      "cell_type": "code",
      "metadata": {
        "colab": {
          "base_uri": "https://localhost:8080/"
        },
        "id": "I9ADOnH3MrIZ",
        "outputId": "b6fadd6e-1ed9-4a9d-9a36-86126452ea75"
      },
      "source": [
        "train_lines = get_lines(data_dir+'train.txt')\n",
        "train_lines[:15]"
      ],
      "execution_count": 7,
      "outputs": [
        {
          "output_type": "execute_result",
          "data": {
            "text/plain": [
              "['###24293578\\n',\n",
              " 'OBJECTIVE\\tTo investigate the efficacy of @ weeks of daily low-dose oral prednisolone in improving pain , mobility , and systemic low-grade inflammation in the short term and whether the effect would be sustained at @ weeks in older adults with moderate to severe knee osteoarthritis ( OA ) .\\n',\n",
              " 'METHODS\\tA total of @ patients with primary knee OA were randomized @:@ ; @ received @ mg/day of prednisolone and @ received placebo for @ weeks .\\n',\n",
              " 'METHODS\\tOutcome measures included pain reduction and improvement in function scores and systemic inflammation markers .\\n',\n",
              " 'METHODS\\tPain was assessed using the visual analog pain scale ( @-@ mm ) .\\n',\n",
              " 'METHODS\\tSecondary outcome measures included the Western Ontario and McMaster Universities Osteoarthritis Index scores , patient global assessment ( PGA ) of the severity of knee OA , and @-min walk distance ( @MWD ) .\\n',\n",
              " 'METHODS\\tSerum levels of interleukin @ ( IL-@ ) , IL-@ , tumor necrosis factor ( TNF ) - , and high-sensitivity C-reactive protein ( hsCRP ) were measured .\\n',\n",
              " 'RESULTS\\tThere was a clinically relevant reduction in the intervention group compared to the placebo group for knee pain , physical function , PGA , and @MWD at @ weeks .\\n',\n",
              " 'RESULTS\\tThe mean difference between treatment arms ( @ % CI ) was @ ( @-@ @ ) , p < @ ; @ ( @-@ @ ) , p < @ ; @ ( @-@ @ ) , p < @ ; and @ ( @-@ @ ) , p < @ , respectively .\\n',\n",
              " 'RESULTS\\tFurther , there was a clinically relevant reduction in the serum levels of IL-@ , IL-@ , TNF - , and hsCRP at @ weeks in the intervention group when compared to the placebo group .\\n',\n",
              " 'RESULTS\\tThese differences remained significant at @ weeks .\\n',\n",
              " 'RESULTS\\tThe Outcome Measures in Rheumatology Clinical Trials-Osteoarthritis Research Society International responder rate was @ % in the intervention group and @ % in the placebo group ( p < @ ) .\\n',\n",
              " 'CONCLUSIONS\\tLow-dose oral prednisolone had both a short-term and a longer sustained effect resulting in less knee pain , better physical function , and attenuation of systemic inflammation in older patients with knee OA ( ClinicalTrials.gov identifier NCT@ ) .\\n',\n",
              " '\\n',\n",
              " '###24854809\\n']"
            ]
          },
          "metadata": {},
          "execution_count": 7
        }
      ]
    },
    {
      "cell_type": "code",
      "metadata": {
        "colab": {
          "base_uri": "https://localhost:8080/"
        },
        "id": "6jcIhJcUMz8P",
        "outputId": "627e028a-add6-4832-eae8-68c7a395d049"
      },
      "source": [
        "len(train_lines)"
      ],
      "execution_count": 8,
      "outputs": [
        {
          "output_type": "execute_result",
          "data": {
            "text/plain": [
              "210040"
            ]
          },
          "metadata": {},
          "execution_count": 8
        }
      ]
    },
    {
      "cell_type": "markdown",
      "metadata": {
        "id": "UuY9YOI-Q0Mr"
      },
      "source": [
        "* Converting each sentence in the list of dictionary from text file"
      ]
    },
    {
      "cell_type": "code",
      "metadata": {
        "id": "EvkGStAbO0vR"
      },
      "source": [
        "def preprocess_text_with_line_number(filename):\n",
        "  \"\"\"\n",
        "  returns a list of dictionary of lines data\n",
        "  \n",
        "  \"\"\"\n",
        "\n",
        "  input_lines = get_lines(filename)\n",
        "  abstract_lines = ''\n",
        "  abstract_samples = []\n",
        "\n",
        "  for line in input_lines:\n",
        "    if line.startswith('###'):\n",
        "      abstract_id = line\n",
        "      abstract_lines = ''\n",
        "    elif line.isspace():\n",
        "      abstract_line_split = abstract_lines.splitlines()\n",
        "    \n",
        "      for abstract_line_number, abstract_line in enumerate(abstract_line_split):\n",
        "        line_data = {}\n",
        "        target_text_split = abstract_line.split('\\t')\n",
        "        line_data['target'] = target_text_split[0]\n",
        "        line_data['text'] = target_text_split[1].lower()\n",
        "        line_data['line_number'] = abstract_line_number\n",
        "        line_data['total_lines'] = len(abstract_line_split) - 1\n",
        "        abstract_samples.append(line_data)\n",
        "    \n",
        "    else:\n",
        "       abstract_lines += line\n",
        "\n",
        "  return abstract_samples"
      ],
      "execution_count": 9,
      "outputs": []
    },
    {
      "cell_type": "code",
      "metadata": {
        "id": "d5fB5EBcUBSn"
      },
      "source": [
        "# getting data from file and preocess it\n",
        "train_samples = preprocess_text_with_line_number(data_dir+'train.txt')\n",
        "val_samples = preprocess_text_with_line_number(data_dir+'dev.txt')\n",
        "test_samples = preprocess_text_with_line_number(data_dir+'test.txt')"
      ],
      "execution_count": 10,
      "outputs": []
    },
    {
      "cell_type": "code",
      "metadata": {
        "colab": {
          "base_uri": "https://localhost:8080/"
        },
        "id": "cHIg9cwtUSo1",
        "outputId": "e00306e7-de32-49ba-870e-08bfd9d9869b"
      },
      "source": [
        "len(train_samples), len(val_samples), len(test_samples)"
      ],
      "execution_count": 11,
      "outputs": [
        {
          "output_type": "execute_result",
          "data": {
            "text/plain": [
              "(180040, 30212, 30135)"
            ]
          },
          "metadata": {},
          "execution_count": 11
        }
      ]
    },
    {
      "cell_type": "code",
      "metadata": {
        "colab": {
          "base_uri": "https://localhost:8080/"
        },
        "id": "GxbCKgcjUnzk",
        "outputId": "ed9d945d-d94a-4444-d872-0b82d91e2e31"
      },
      "source": [
        "train_samples[:5]"
      ],
      "execution_count": 12,
      "outputs": [
        {
          "output_type": "execute_result",
          "data": {
            "text/plain": [
              "[{'line_number': 0,\n",
              "  'target': 'OBJECTIVE',\n",
              "  'text': 'to investigate the efficacy of @ weeks of daily low-dose oral prednisolone in improving pain , mobility , and systemic low-grade inflammation in the short term and whether the effect would be sustained at @ weeks in older adults with moderate to severe knee osteoarthritis ( oa ) .',\n",
              "  'total_lines': 11},\n",
              " {'line_number': 1,\n",
              "  'target': 'METHODS',\n",
              "  'text': 'a total of @ patients with primary knee oa were randomized @:@ ; @ received @ mg/day of prednisolone and @ received placebo for @ weeks .',\n",
              "  'total_lines': 11},\n",
              " {'line_number': 2,\n",
              "  'target': 'METHODS',\n",
              "  'text': 'outcome measures included pain reduction and improvement in function scores and systemic inflammation markers .',\n",
              "  'total_lines': 11},\n",
              " {'line_number': 3,\n",
              "  'target': 'METHODS',\n",
              "  'text': 'pain was assessed using the visual analog pain scale ( @-@ mm ) .',\n",
              "  'total_lines': 11},\n",
              " {'line_number': 4,\n",
              "  'target': 'METHODS',\n",
              "  'text': 'secondary outcome measures included the western ontario and mcmaster universities osteoarthritis index scores , patient global assessment ( pga ) of the severity of knee oa , and @-min walk distance ( @mwd ) .',\n",
              "  'total_lines': 11}]"
            ]
          },
          "metadata": {},
          "execution_count": 12
        }
      ]
    },
    {
      "cell_type": "markdown",
      "metadata": {
        "id": "520CcN1JWxGI"
      },
      "source": [
        "* Converting list of dictionaries in pandas dataframe"
      ]
    },
    {
      "cell_type": "code",
      "metadata": {
        "id": "HKwT0acyUvCX"
      },
      "source": [
        "train_df = pd.DataFrame(train_samples)\n",
        "val_df = pd.DataFrame(val_samples)\n",
        "test_df = pd.DataFrame(test_samples)"
      ],
      "execution_count": 13,
      "outputs": []
    },
    {
      "cell_type": "code",
      "metadata": {
        "colab": {
          "base_uri": "https://localhost:8080/",
          "height": 204
        },
        "id": "ygZNLOkXXioj",
        "outputId": "079ef25d-6886-462d-8fc9-2effcd175492"
      },
      "source": [
        "train_df.head()"
      ],
      "execution_count": 14,
      "outputs": [
        {
          "output_type": "execute_result",
          "data": {
            "text/html": [
              "<div>\n",
              "<style scoped>\n",
              "    .dataframe tbody tr th:only-of-type {\n",
              "        vertical-align: middle;\n",
              "    }\n",
              "\n",
              "    .dataframe tbody tr th {\n",
              "        vertical-align: top;\n",
              "    }\n",
              "\n",
              "    .dataframe thead th {\n",
              "        text-align: right;\n",
              "    }\n",
              "</style>\n",
              "<table border=\"1\" class=\"dataframe\">\n",
              "  <thead>\n",
              "    <tr style=\"text-align: right;\">\n",
              "      <th></th>\n",
              "      <th>target</th>\n",
              "      <th>text</th>\n",
              "      <th>line_number</th>\n",
              "      <th>total_lines</th>\n",
              "    </tr>\n",
              "  </thead>\n",
              "  <tbody>\n",
              "    <tr>\n",
              "      <th>0</th>\n",
              "      <td>OBJECTIVE</td>\n",
              "      <td>to investigate the efficacy of @ weeks of dail...</td>\n",
              "      <td>0</td>\n",
              "      <td>11</td>\n",
              "    </tr>\n",
              "    <tr>\n",
              "      <th>1</th>\n",
              "      <td>METHODS</td>\n",
              "      <td>a total of @ patients with primary knee oa wer...</td>\n",
              "      <td>1</td>\n",
              "      <td>11</td>\n",
              "    </tr>\n",
              "    <tr>\n",
              "      <th>2</th>\n",
              "      <td>METHODS</td>\n",
              "      <td>outcome measures included pain reduction and i...</td>\n",
              "      <td>2</td>\n",
              "      <td>11</td>\n",
              "    </tr>\n",
              "    <tr>\n",
              "      <th>3</th>\n",
              "      <td>METHODS</td>\n",
              "      <td>pain was assessed using the visual analog pain...</td>\n",
              "      <td>3</td>\n",
              "      <td>11</td>\n",
              "    </tr>\n",
              "    <tr>\n",
              "      <th>4</th>\n",
              "      <td>METHODS</td>\n",
              "      <td>secondary outcome measures included the wester...</td>\n",
              "      <td>4</td>\n",
              "      <td>11</td>\n",
              "    </tr>\n",
              "  </tbody>\n",
              "</table>\n",
              "</div>"
            ],
            "text/plain": [
              "      target  ... total_lines\n",
              "0  OBJECTIVE  ...          11\n",
              "1    METHODS  ...          11\n",
              "2    METHODS  ...          11\n",
              "3    METHODS  ...          11\n",
              "4    METHODS  ...          11\n",
              "\n",
              "[5 rows x 4 columns]"
            ]
          },
          "metadata": {},
          "execution_count": 14
        }
      ]
    },
    {
      "cell_type": "code",
      "metadata": {
        "colab": {
          "base_uri": "https://localhost:8080/"
        },
        "id": "qTdasI6dXAbh",
        "outputId": "cd6ab195-a707-421a-c059-dbf3bf103367"
      },
      "source": [
        "train_df['target'].value_counts()"
      ],
      "execution_count": 15,
      "outputs": [
        {
          "output_type": "execute_result",
          "data": {
            "text/plain": [
              "METHODS        59353\n",
              "RESULTS        57953\n",
              "CONCLUSIONS    27168\n",
              "BACKGROUND     21727\n",
              "OBJECTIVE      13839\n",
              "Name: target, dtype: int64"
            ]
          },
          "metadata": {},
          "execution_count": 15
        }
      ]
    },
    {
      "cell_type": "code",
      "metadata": {
        "colab": {
          "base_uri": "https://localhost:8080/",
          "height": 497
        },
        "id": "KhsKG0rgXs8a",
        "outputId": "02649fab-a432-482b-b091-e8536af31a1b"
      },
      "source": [
        "plt.figure(figsize=(10,7))\n",
        "sns.countplot('target',data=train_df);"
      ],
      "execution_count": 16,
      "outputs": [
        {
          "output_type": "stream",
          "name": "stderr",
          "text": [
            "/usr/local/lib/python3.7/dist-packages/seaborn/_decorators.py:43: FutureWarning: Pass the following variable as a keyword arg: x. From version 0.12, the only valid positional argument will be `data`, and passing other arguments without an explicit keyword will result in an error or misinterpretation.\n",
            "  FutureWarning\n"
          ]
        },
        {
          "output_type": "display_data",
          "data": {
            "image/png": "[encoded data removed]",
            "text/plain": [
              "<Figure size 720x504 with 1 Axes>"
            ]
          },
          "metadata": {
            "needs_background": "light"
          }
        }
      ]
    },
    {
      "cell_type": "code",
      "metadata": {
        "colab": {
          "base_uri": "https://localhost:8080/",
          "height": 284
        },
        "id": "A4OsiWfjX10t",
        "outputId": "9b7aacaa-b924-4bbd-9f76-4344bc3996d5"
      },
      "source": [
        "train_df['total_lines'].plot.hist()"
      ],
      "execution_count": 17,
      "outputs": [
        {
          "output_type": "execute_result",
          "data": {
            "text/plain": [
              "<matplotlib.axes._subplots.AxesSubplot at 0x7fafc2ac6f50>"
            ]
          },
          "metadata": {},
          "execution_count": 17
        },
        {
          "output_type": "display_data",
          "data": {
            "image/png": "[encoded data removed]",
            "text/plain": [
              "<Figure size 432x288 with 1 Axes>"
            ]
          },
          "metadata": {
            "needs_background": "light"
          }
        }
      ]
    },
    {
      "cell_type": "markdown",
      "metadata": {
        "id": "v5TSPXV9YeEU"
      },
      "source": [
        "## List of sentences"
      ]
    },
    {
      "cell_type": "code",
      "metadata": {
        "colab": {
          "base_uri": "https://localhost:8080/"
        },
        "id": "TFhL76_4YMPQ",
        "outputId": "7eb83e45-16d3-4d6a-fdb0-83f419f9e88c"
      },
      "source": [
        "train_sentences = train_df['text'].tolist()\n",
        "val_sentences = val_df['text'].tolist()\n",
        "test_sentences = test_df['text'].tolist()\n",
        "\n",
        "len(train_sentences), len(val_sentences), len(test_sentences)"
      ],
      "execution_count": 18,
      "outputs": [
        {
          "output_type": "execute_result",
          "data": {
            "text/plain": [
              "(180040, 30212, 30135)"
            ]
          },
          "metadata": {},
          "execution_count": 18
        }
      ]
    },
    {
      "cell_type": "code",
      "metadata": {
        "colab": {
          "base_uri": "https://localhost:8080/"
        },
        "id": "pAl3LPi5Y3KI",
        "outputId": "488f6739-dad4-4a5d-937a-96c25334f208"
      },
      "source": [
        "train_sentences[:10]"
      ],
      "execution_count": 19,
      "outputs": [
        {
          "output_type": "execute_result",
          "data": {
            "text/plain": [
              "['to investigate the efficacy of @ weeks of daily low-dose oral prednisolone in improving pain , mobility , and systemic low-grade inflammation in the short term and whether the effect would be sustained at @ weeks in older adults with moderate to severe knee osteoarthritis ( oa ) .',\n",
              " 'a total of @ patients with primary knee oa were randomized @:@ ; @ received @ mg/day of prednisolone and @ received placebo for @ weeks .',\n",
              " 'outcome measures included pain reduction and improvement in function scores and systemic inflammation markers .',\n",
              " 'pain was assessed using the visual analog pain scale ( @-@ mm ) .',\n",
              " 'secondary outcome measures included the western ontario and mcmaster universities osteoarthritis index scores , patient global assessment ( pga ) of the severity of knee oa , and @-min walk distance ( @mwd ) .',\n",
              " 'serum levels of interleukin @ ( il-@ ) , il-@ , tumor necrosis factor ( tnf ) - , and high-sensitivity c-reactive protein ( hscrp ) were measured .',\n",
              " 'there was a clinically relevant reduction in the intervention group compared to the placebo group for knee pain , physical function , pga , and @mwd at @ weeks .',\n",
              " 'the mean difference between treatment arms ( @ % ci ) was @ ( @-@ @ ) , p < @ ; @ ( @-@ @ ) , p < @ ; @ ( @-@ @ ) , p < @ ; and @ ( @-@ @ ) , p < @ , respectively .',\n",
              " 'further , there was a clinically relevant reduction in the serum levels of il-@ , il-@ , tnf - , and hscrp at @ weeks in the intervention group when compared to the placebo group .',\n",
              " 'these differences remained significant at @ weeks .']"
            ]
          },
          "metadata": {},
          "execution_count": 19
        }
      ]
    },
    {
      "cell_type": "markdown",
      "metadata": {
        "id": "jq6XwAyQZ4m0"
      },
      "source": [
        "#Making Numeric labels\n",
        "\n",
        "* one hot encoded labels"
      ]
    },
    {
      "cell_type": "code",
      "metadata": {
        "id": "raazNvPRZGJq"
      },
      "source": [
        "from sklearn.preprocessing import OneHotEncoder"
      ],
      "execution_count": 20,
      "outputs": []
    },
    {
      "cell_type": "code",
      "metadata": {
        "colab": {
          "base_uri": "https://localhost:8080/"
        },
        "id": "R97x1uT_aJ-W",
        "outputId": "30f2e9e3-a21f-4c98-cdfc-b04c8b249dde"
      },
      "source": [
        "one_hot_encoder = OneHotEncoder(sparse=False)\n",
        "\n",
        "train_labels_one_hot = one_hot_encoder.fit_transform(train_df['target'].to_numpy().reshape(-1,1))\n",
        "val_labels_one_hot = one_hot_encoder.transform(val_df['target'].to_numpy().reshape(-1,1))\n",
        "test_labels_one_hot = one_hot_encoder.transform(test_df['target'].to_numpy().reshape(-1,1))\n",
        "\n",
        "train_labels_one_hot"
      ],
      "execution_count": 21,
      "outputs": [
        {
          "output_type": "execute_result",
          "data": {
            "text/plain": [
              "array([[0., 0., 0., 1., 0.],\n",
              "       [0., 0., 1., 0., 0.],\n",
              "       [0., 0., 1., 0., 0.],\n",
              "       ...,\n",
              "       [0., 0., 0., 0., 1.],\n",
              "       [0., 1., 0., 0., 0.],\n",
              "       [0., 1., 0., 0., 0.]])"
            ]
          },
          "metadata": {},
          "execution_count": 21
        }
      ]
    },
    {
      "cell_type": "markdown",
      "metadata": {
        "id": "JatTXSlkbUHD"
      },
      "source": [
        "* Label Incoder"
      ]
    },
    {
      "cell_type": "code",
      "metadata": {
        "id": "K8pTnD9xazXo"
      },
      "source": [
        "from sklearn.preprocessing import LabelEncoder"
      ],
      "execution_count": 22,
      "outputs": []
    },
    {
      "cell_type": "code",
      "metadata": {
        "colab": {
          "base_uri": "https://localhost:8080/"
        },
        "id": "Riy8AszibaY1",
        "outputId": "24b589ce-e35e-4399-f6af-6f4b287609c4"
      },
      "source": [
        "label_encoder = LabelEncoder()\n",
        "\n",
        "train_label_encoded = label_encoder.fit_transform(train_df['target'].to_numpy())\n",
        "val_label_encoded = label_encoder.transform(val_df['target'].to_numpy())\n",
        "test_label_encoded = label_encoder.transform(test_df['target'].to_numpy())\n",
        "\n",
        "train_label_encoded"
      ],
      "execution_count": 23,
      "outputs": [
        {
          "output_type": "execute_result",
          "data": {
            "text/plain": [
              "array([3, 2, 2, ..., 4, 1, 1])"
            ]
          },
          "metadata": {},
          "execution_count": 23
        }
      ]
    },
    {
      "cell_type": "markdown",
      "metadata": {
        "id": "hMwJ3mPucKxb"
      },
      "source": [
        "##class names and number of classes"
      ]
    },
    {
      "cell_type": "code",
      "metadata": {
        "colab": {
          "base_uri": "https://localhost:8080/"
        },
        "id": "G_vVcDq4b6hC",
        "outputId": "936e195d-6152-4924-ae59-8c5ba7967123"
      },
      "source": [
        "num_classes = len(label_encoder.classes_)\n",
        "class_names = label_encoder.classes_\n",
        "\n",
        "num_classes, class_names"
      ],
      "execution_count": 24,
      "outputs": [
        {
          "output_type": "execute_result",
          "data": {
            "text/plain": [
              "(5, array(['BACKGROUND', 'CONCLUSIONS', 'METHODS', 'OBJECTIVE', 'RESULTS'],\n",
              "       dtype=object))"
            ]
          },
          "metadata": {},
          "execution_count": 24
        }
      ]
    },
    {
      "cell_type": "markdown",
      "metadata": {
        "id": "L7sB5v4DeiKT"
      },
      "source": [
        "#Useful Functions"
      ]
    },
    {
      "cell_type": "code",
      "metadata": {
        "id": "42S4Weqoemxy"
      },
      "source": [
        "from sklearn.metrics import accuracy_score, precision_recall_fscore_support"
      ],
      "execution_count": 25,
      "outputs": []
    },
    {
      "cell_type": "code",
      "metadata": {
        "id": "CPugQUMFehzt"
      },
      "source": [
        "def calculate_result(y_true, y_pred):\n",
        "  accuracy = accuracy_score(y_true, y_pred)\n",
        "  model_precision, model_recall, model_f1, _ = precision_recall_fscore_support(y_true, y_pred, average='weighted')\n",
        "  model_results = {\n",
        "      'accurecy': accuracy,\n",
        "      'precision': model_precision,\n",
        "      'recall': model_recall,\n",
        "      'f1-score': model_f1,\n",
        "  }\n",
        "\n",
        "  return model_results"
      ],
      "execution_count": 26,
      "outputs": []
    },
    {
      "cell_type": "code",
      "metadata": {
        "colab": {
          "base_uri": "https://localhost:8080/"
        },
        "id": "OKOJ1-cgBQ04",
        "outputId": "aa253fab-f958-4356-d15d-462b7ce492e2"
      },
      "source": [
        "\n",
        "!wget https://raw.githubusercontent.com/mrdbourke/tensorflow-deep-learning/main/extras/helper_functions.py\n",
        "\n",
        "# importing helper function\n",
        "from helper_functions import create_tensorboard_callback, plot_loss_curves, pred_and_plot, unzip_data, walk_through_dir"
      ],
      "execution_count": 27,
      "outputs": [
        {
          "output_type": "stream",
          "name": "stdout",
          "text": [
            "--2021-10-12 13:36:31--  https://raw.githubusercontent.com/mrdbourke/tensorflow-deep-learning/main/extras/helper_functions.py\n",
            "Resolving raw.githubusercontent.com (raw.githubusercontent.com)... 185.199.108.133, 185.199.109.133, 185.199.110.133, ...\n",
            "Connecting to raw.githubusercontent.com (raw.githubusercontent.com)|185.199.108.133|:443... connected.\n",
            "HTTP request sent, awaiting response... 200 OK\n",
            "Length: 10246 (10K) [text/plain]\n",
            "Saving to: ‘helper_functions.py’\n",
            "\n",
            "\rhelper_functions.py   0%[                    ]       0  --.-KB/s               \rhelper_functions.py 100%[===================>]  10.01K  --.-KB/s    in 0s      \n",
            "\n",
            "2021-10-12 13:36:31 (83.6 MB/s) - ‘helper_functions.py’ saved [10246/10246]\n",
            "\n"
          ]
        }
      ]
    },
    {
      "cell_type": "markdown",
      "metadata": {
        "id": "VWURnX_ideki"
      },
      "source": [
        "# Bulding Models"
      ]
    },
    {
      "cell_type": "markdown",
      "metadata": {
        "id": "khoqkGSudhCn"
      },
      "source": [
        "## 1. NaiveBase Model"
      ]
    },
    {
      "cell_type": "code",
      "metadata": {
        "id": "7K_vlPRJcXMS"
      },
      "source": [
        "from sklearn.naive_bayes import MultinomialNB\n",
        "from sklearn.pipeline import Pipeline\n",
        "from sklearn.feature_extraction.text import TfidfVectorizer"
      ],
      "execution_count": 28,
      "outputs": []
    },
    {
      "cell_type": "code",
      "metadata": {
        "id": "7aRISkoZd8xX"
      },
      "source": [
        "model_0 = Pipeline([\n",
        "    ('tfifd', TfidfVectorizer()),\n",
        "    ('NB', MultinomialNB()), \n",
        "])"
      ],
      "execution_count": 29,
      "outputs": []
    },
    {
      "cell_type": "code",
      "metadata": {
        "colab": {
          "base_uri": "https://localhost:8080/"
        },
        "id": "G_LqrR_neOCy",
        "outputId": "8cf0a4b3-8d2c-425c-e136-a4436f2167e4"
      },
      "source": [
        "model_0.fit(train_sentences, train_label_encoded)"
      ],
      "execution_count": 30,
      "outputs": [
        {
          "output_type": "execute_result",
          "data": {
            "text/plain": [
              "Pipeline(memory=None,\n",
              "         steps=[('tfifd',\n",
              "                 TfidfVectorizer(analyzer='word', binary=False,\n",
              "                                 decode_error='strict',\n",
              "                                 dtype=<class 'numpy.float64'>,\n",
              "                                 encoding='utf-8', input='content',\n",
              "                                 lowercase=True, max_df=1.0, max_features=None,\n",
              "                                 min_df=1, ngram_range=(1, 1), norm='l2',\n",
              "                                 preprocessor=None, smooth_idf=True,\n",
              "                                 stop_words=None, strip_accents=None,\n",
              "                                 sublinear_tf=False,\n",
              "                                 token_pattern='(?u)\\\\b\\\\w\\\\w+\\\\b',\n",
              "                                 tokenizer=None, use_idf=True,\n",
              "                                 vocabulary=None)),\n",
              "                ('NB',\n",
              "                 MultinomialNB(alpha=1.0, class_prior=None, fit_prior=True))],\n",
              "         verbose=False)"
            ]
          },
          "metadata": {},
          "execution_count": 30
        }
      ]
    },
    {
      "cell_type": "code",
      "metadata": {
        "colab": {
          "base_uri": "https://localhost:8080/"
        },
        "id": "-EBY7duueUJE",
        "outputId": "a015b68b-1531-45b9-828a-48f684174495"
      },
      "source": [
        "model_0.score(val_sentences, val_label_encoded)"
      ],
      "execution_count": 31,
      "outputs": [
        {
          "output_type": "execute_result",
          "data": {
            "text/plain": [
              "0.7218323844829869"
            ]
          },
          "metadata": {},
          "execution_count": 31
        }
      ]
    },
    {
      "cell_type": "code",
      "metadata": {
        "id": "77ahv8p2eawW"
      },
      "source": [
        "model_0_pred = model_0.predict(val_sentences)"
      ],
      "execution_count": 32,
      "outputs": []
    },
    {
      "cell_type": "code",
      "metadata": {
        "colab": {
          "base_uri": "https://localhost:8080/"
        },
        "id": "prRamHYMefR4",
        "outputId": "c1e95d11-38a6-403f-a08e-35f2aa608540"
      },
      "source": [
        "baseline_result = calculate_result(val_label_encoded, model_0_pred)\n",
        "baseline_result"
      ],
      "execution_count": 33,
      "outputs": [
        {
          "output_type": "execute_result",
          "data": {
            "text/plain": [
              "{'accurecy': 0.7218323844829869,\n",
              " 'f1-score': 0.6989250353450294,\n",
              " 'precision': 0.7186466952323352,\n",
              " 'recall': 0.7218323844829869}"
            ]
          },
          "metadata": {},
          "execution_count": 33
        }
      ]
    },
    {
      "cell_type": "markdown",
      "metadata": {
        "id": "kFA5aeVqgSSU"
      },
      "source": [
        "## Preparing Embedding Layer"
      ]
    },
    {
      "cell_type": "code",
      "metadata": {
        "id": "3xrCpNa-e9wk"
      },
      "source": [
        "from tensorflow.keras.layers import TextVectorization, Embedding"
      ],
      "execution_count": 34,
      "outputs": []
    },
    {
      "cell_type": "markdown",
      "metadata": {
        "id": "Lk3bkSOng61a"
      },
      "source": [
        "* Average sentence length"
      ]
    },
    {
      "cell_type": "code",
      "metadata": {
        "colab": {
          "base_uri": "https://localhost:8080/"
        },
        "id": "gV-fsaelgl1S",
        "outputId": "b618f18d-a237-47a7-9865-db00b0f404b6"
      },
      "source": [
        "sent_len = round(sum([len(i.split()) for i in train_sentences])/ len(train_sentences))\n",
        "sent_len"
      ],
      "execution_count": 35,
      "outputs": [
        {
          "output_type": "execute_result",
          "data": {
            "text/plain": [
              "26"
            ]
          },
          "metadata": {},
          "execution_count": 35
        }
      ]
    },
    {
      "cell_type": "markdown",
      "metadata": {
        "id": "MnXuBSpkhAQ5"
      },
      "source": [
        "### Text vectorizor"
      ]
    },
    {
      "cell_type": "markdown",
      "metadata": {
        "id": "F68LVWc-jXUQ"
      },
      "source": [
        "* **max_vocab_length** for 20k dataset is 68k\n",
        "* **max_vocab_length** for 200k dataset is 331k"
      ]
    },
    {
      "cell_type": "code",
      "metadata": {
        "id": "EO-5Wkw8gwW5"
      },
      "source": [
        "max_vocab_length = 68000\n",
        "max_length = 55\n",
        "\n",
        "text_vectorizer = TextVectorization(\n",
        "    max_tokens=max_vocab_length,\n",
        "    output_mode='int',\n",
        "    output_sequence_length=max_length,\n",
        ")"
      ],
      "execution_count": 36,
      "outputs": []
    },
    {
      "cell_type": "code",
      "metadata": {
        "id": "viRl3yodjngP"
      },
      "source": [
        "text_vectorizer.adapt(train_sentences)"
      ],
      "execution_count": 37,
      "outputs": []
    },
    {
      "cell_type": "code",
      "metadata": {
        "colab": {
          "base_uri": "https://localhost:8080/"
        },
        "id": "q_DLcR2FlebG",
        "outputId": "8e300f24-194b-4ce6-ad1f-0f355d7edefc"
      },
      "source": [
        "# How many words in our training vocabulary?\n",
        "rct_20k_text_vocab = text_vectorizer.get_vocabulary()\n",
        "print(f\"Number of words in vocabulary: {len(rct_20k_text_vocab)}\"), \n",
        "print(f\"Most common words in the vocabulary: {rct_20k_text_vocab[:5]}\")\n",
        "print(f\"Least common words in the vocabulary: {rct_20k_text_vocab[-5:]}\")"
      ],
      "execution_count": 38,
      "outputs": [
        {
          "output_type": "stream",
          "name": "stdout",
          "text": [
            "Number of words in vocabulary: 64841\n",
            "Most common words in the vocabulary: ['', '[UNK]', 'the', 'and', 'of']\n",
            "Least common words in the vocabulary: ['aainduced', 'aaigroup', 'aachener', 'aachen', 'aaacp']\n"
          ]
        }
      ]
    },
    {
      "cell_type": "markdown",
      "metadata": {
        "id": "TLA0p-qhk85E"
      },
      "source": [
        "### Embedding Layer"
      ]
    },
    {
      "cell_type": "code",
      "metadata": {
        "id": "p9YiTuAtjwnx"
      },
      "source": [
        "embedding = Embedding(\n",
        "    input_dim = len(rct_20k_text_vocab),\n",
        "    output_dim = 128,\n",
        "    mask_zero=True,\n",
        "    name='token_embedding'\n",
        ")"
      ],
      "execution_count": 39,
      "outputs": []
    },
    {
      "cell_type": "markdown",
      "metadata": {
        "id": "tRRk7JLjmnEc"
      },
      "source": [
        "### Turning our data into tensorflow datasets\n",
        "\n",
        "* tensorflow data api"
      ]
    },
    {
      "cell_type": "code",
      "metadata": {
        "id": "zMJXETBlmmcj"
      },
      "source": [
        "train_dataset = tf.data.Dataset.from_tensor_slices((train_sentences, train_labels_one_hot))\n",
        "val_dataset = tf.data.Dataset.from_tensor_slices((val_sentences, val_labels_one_hot))\n",
        "test_dataset = tf.data.Dataset.from_tensor_slices((test_sentences, test_labels_one_hot))"
      ],
      "execution_count": 40,
      "outputs": []
    },
    {
      "cell_type": "markdown",
      "metadata": {
        "id": "BxuTQnOtnsSf"
      },
      "source": [
        "* take tensorflow dataset and prefetch them into prefetched dataset"
      ]
    },
    {
      "cell_type": "code",
      "metadata": {
        "id": "f2uIW8u9n7rl"
      },
      "source": [
        "train_dataset = train_dataset.batch(32).prefetch(tf.data.AUTOTUNE)\n",
        "val_dataset = val_dataset.batch(32).prefetch(tf.data.AUTOTUNE)\n",
        "test_dataset = test_dataset.batch(32).prefetch(tf.data.AUTOTUNE)"
      ],
      "execution_count": 41,
      "outputs": []
    },
    {
      "cell_type": "code",
      "metadata": {
        "colab": {
          "base_uri": "https://localhost:8080/"
        },
        "id": "Y4xgdmbCqamc",
        "outputId": "35edc916-29a7-42c7-a6ea-93d238f212cf"
      },
      "source": [
        "train_dataset"
      ],
      "execution_count": 42,
      "outputs": [
        {
          "output_type": "execute_result",
          "data": {
            "text/plain": [
              "<PrefetchDataset shapes: ((None,), (None, 5)), types: (tf.string, tf.float64)>"
            ]
          },
          "metadata": {},
          "execution_count": 42
        }
      ]
    },
    {
      "cell_type": "markdown",
      "metadata": {
        "id": "anzexPOemMGI"
      },
      "source": [
        "## 2. Conv1D layer"
      ]
    },
    {
      "cell_type": "code",
      "metadata": {
        "colab": {
          "base_uri": "https://localhost:8080/"
        },
        "id": "owPW7rkYpOrl",
        "outputId": "de4018dd-d312-4bd8-ec44-55c71e5ebb0a"
      },
      "source": [
        "num_classes"
      ],
      "execution_count": 43,
      "outputs": [
        {
          "output_type": "execute_result",
          "data": {
            "text/plain": [
              "5"
            ]
          },
          "metadata": {},
          "execution_count": 43
        }
      ]
    },
    {
      "cell_type": "code",
      "metadata": {
        "id": "i3WF5D9jl65a"
      },
      "source": [
        "inputs = layers.Input(shape=(1,), dtype=tf.string)\n",
        "x = text_vectorizer(inputs)\n",
        "x = embedding(x)\n",
        "x = layers.Conv1D(\n",
        "    filters = 64,\n",
        "    kernel_size = 5,\n",
        "    padding = 'same',\n",
        "    activation = 'relu',\n",
        ")(x)\n",
        "\n",
        "x = layers.GlobalMaxPooling1D()(x)\n",
        "x = layers.Dense(64, activation='relu')(x)\n",
        "outputs = layers.Dense(num_classes, activation='softmax')(x)\n",
        "\n",
        "model_1 = tf.keras.Model(inputs, outputs)"
      ],
      "execution_count": 44,
      "outputs": []
    },
    {
      "cell_type": "code",
      "metadata": {
        "colab": {
          "base_uri": "https://localhost:8080/"
        },
        "id": "xiM8hhGUppNq",
        "outputId": "07ece23b-383a-438b-9a2b-ee04ae53dc05"
      },
      "source": [
        "model_1.summary()"
      ],
      "execution_count": 45,
      "outputs": [
        {
          "output_type": "stream",
          "name": "stdout",
          "text": [
            "Model: \"model\"\n",
            "_________________________________________________________________\n",
            "Layer (type)                 Output Shape              Param #   \n",
            "=================================================================\n",
            "input_1 (InputLayer)         [(None, 1)]               0         \n",
            "_________________________________________________________________\n",
            "text_vectorization (TextVect (None, 55)                0         \n",
            "_________________________________________________________________\n",
            "token_embedding (Embedding)  (None, 55, 128)           8299648   \n",
            "_________________________________________________________________\n",
            "conv1d (Conv1D)              (None, 55, 64)            41024     \n",
            "_________________________________________________________________\n",
            "global_max_pooling1d (Global (None, 64)                0         \n",
            "_________________________________________________________________\n",
            "dense (Dense)                (None, 64)                4160      \n",
            "_________________________________________________________________\n",
            "dense_1 (Dense)              (None, 5)                 325       \n",
            "=================================================================\n",
            "Total params: 8,345,157\n",
            "Trainable params: 8,345,157\n",
            "Non-trainable params: 0\n",
            "_________________________________________________________________\n"
          ]
        }
      ]
    },
    {
      "cell_type": "code",
      "metadata": {
        "colab": {
          "base_uri": "https://localhost:8080/"
        },
        "id": "7fejbBxLpyIS",
        "outputId": "6255bad7-c304-458d-86a2-7ac131e8ef95"
      },
      "source": [
        "model_1.compile(\n",
        "    loss = 'categorical_crossentropy',\n",
        "    optimizer = Adam(),\n",
        "    metrics = ['accuracy']\n",
        ")\n",
        "\n",
        "history_1 = model_1.fit(\n",
        "    train_dataset,\n",
        "    epochs = 5,\n",
        "    steps_per_epoch = len(train_dataset),\n",
        "    validation_data = val_dataset,\n",
        "    validation_steps = int(0.15 * len(val_dataset)),\n",
        ")"
      ],
      "execution_count": 46,
      "outputs": [
        {
          "output_type": "stream",
          "name": "stdout",
          "text": [
            "Epoch 1/5\n",
            "5627/5627 [==============================] - 106s 14ms/step - loss: 0.5477 - accuracy: 0.7966 - val_loss: 0.4676 - val_accuracy: 0.8240\n",
            "Epoch 2/5\n",
            "5627/5627 [==============================] - 75s 13ms/step - loss: 0.3580 - accuracy: 0.8713 - val_loss: 0.5234 - val_accuracy: 0.8158\n",
            "Epoch 3/5\n",
            "5627/5627 [==============================] - 75s 13ms/step - loss: 0.2155 - accuracy: 0.9252 - val_loss: 0.6875 - val_accuracy: 0.8016\n",
            "Epoch 4/5\n",
            "5627/5627 [==============================] - 75s 13ms/step - loss: 0.1215 - accuracy: 0.9596 - val_loss: 0.8671 - val_accuracy: 0.7846\n",
            "Epoch 5/5\n",
            "5627/5627 [==============================] - 75s 13ms/step - loss: 0.0752 - accuracy: 0.9750 - val_loss: 1.0202 - val_accuracy: 0.8001\n"
          ]
        }
      ]
    },
    {
      "cell_type": "code",
      "metadata": {
        "id": "yu4oDW4urPtW",
        "colab": {
          "base_uri": "https://localhost:8080/"
        },
        "outputId": "483ff62d-06e1-47db-faeb-1cabd56687f0"
      },
      "source": [
        "model_1.evaluate(val_dataset)"
      ],
      "execution_count": 47,
      "outputs": [
        {
          "output_type": "stream",
          "name": "stdout",
          "text": [
            "945/945 [==============================] - 4s 5ms/step - loss: 1.0653 - accuracy: 0.7946\n"
          ]
        },
        {
          "output_type": "execute_result",
          "data": {
            "text/plain": [
              "[1.065269947052002, 0.7946180105209351]"
            ]
          },
          "metadata": {},
          "execution_count": 47
        }
      ]
    },
    {
      "cell_type": "code",
      "metadata": {
        "id": "c7hZyrZNt4qK"
      },
      "source": [
        "model_1_pred = tf.squeeze(tf.round(model_1.predict(val_dataset)))"
      ],
      "execution_count": 48,
      "outputs": []
    },
    {
      "cell_type": "code",
      "metadata": {
        "id": "5AKnNuFLJqq9"
      },
      "source": [
        "model_1_pred = tf.argmax(model_1_pred, axis=1)"
      ],
      "execution_count": 49,
      "outputs": []
    },
    {
      "cell_type": "code",
      "metadata": {
        "id": "4GEJfF90t_mX",
        "colab": {
          "base_uri": "https://localhost:8080/"
        },
        "outputId": "fad6c00d-448f-4bb6-ffba-afac481d8241"
      },
      "source": [
        "model_1_result = calculate_result(val_label_encoded, model_1_pred)\n",
        "model_1_result"
      ],
      "execution_count": 50,
      "outputs": [
        {
          "output_type": "execute_result",
          "data": {
            "text/plain": [
              "{'accurecy': 0.7942208394015623,\n",
              " 'f1-score': 0.7915455076497933,\n",
              " 'precision': 0.7903191982897041,\n",
              " 'recall': 0.7942208394015623}"
            ]
          },
          "metadata": {},
          "execution_count": 50
        }
      ]
    },
    {
      "cell_type": "code",
      "metadata": {
        "id": "cfIy5ppxuPnI",
        "colab": {
          "base_uri": "https://localhost:8080/",
          "height": 573
        },
        "outputId": "9c313d07-253a-48fd-dd3f-c3f26db5901e"
      },
      "source": [
        "plot_loss_curves(history_1)"
      ],
      "execution_count": 51,
      "outputs": [
        {
          "output_type": "display_data",
          "data": {
            "image/png": "[encoded data removed]",
            "text/plain": [
              "<Figure size 432x288 with 1 Axes>"
            ]
          },
          "metadata": {
            "needs_background": "light"
          }
        },
        {
          "output_type": "display_data",
          "data": {
            "image/png": "[encoded data removed]",
            "text/plain": [
              "<Figure size 432x288 with 1 Axes>"
            ]
          },
          "metadata": {
            "needs_background": "light"
          }
        }
      ]
    },
    {
      "cell_type": "markdown",
      "metadata": {
        "id": "YptgJWZiCAtw"
      },
      "source": [
        "## 3. Feature extraction with pretrained token embedding\n",
        "\n",
        "* Universal sentence embedding"
      ]
    },
    {
      "cell_type": "code",
      "metadata": {
        "id": "jUzuOUkvBpb-"
      },
      "source": [
        "import tensorflow_hub as hub\n",
        "tf_hub_embedding_layer = hub.KerasLayer(\"https://tfhub.dev/google/universal-sentence-encoder/4\",\n",
        "                                        trainable=False,\n",
        "                                        name=\"universal_sentence_encoder\")"
      ],
      "execution_count": 52,
      "outputs": []
    },
    {
      "cell_type": "code",
      "metadata": {
        "id": "fRODXSPMDbCe"
      },
      "source": [
        "inputs = layers.Input(shape=[], dtype=tf.string)\n",
        "x = tf_hub_embedding_layer(inputs)\n",
        "x = layers.Dense(128, activation='relu')(x)\n",
        "outputs = layers.Dense(num_classes, activation='softmax')(x)\n",
        "\n",
        "model_2 = tf.keras.Model(inputs, outputs)"
      ],
      "execution_count": 53,
      "outputs": []
    },
    {
      "cell_type": "code",
      "metadata": {
        "id": "Rr2WO0liESNK",
        "colab": {
          "base_uri": "https://localhost:8080/"
        },
        "outputId": "1ea807fa-2d2d-42e6-e13d-d36c649cfe25"
      },
      "source": [
        "model_2.summary()"
      ],
      "execution_count": 54,
      "outputs": [
        {
          "output_type": "stream",
          "name": "stdout",
          "text": [
            "Model: \"model_1\"\n",
            "_________________________________________________________________\n",
            "Layer (type)                 Output Shape              Param #   \n",
            "=================================================================\n",
            "input_2 (InputLayer)         [(None,)]                 0         \n",
            "_________________________________________________________________\n",
            "universal_sentence_encoder ( (None, 512)               256797824 \n",
            "_________________________________________________________________\n",
            "dense_2 (Dense)              (None, 128)               65664     \n",
            "_________________________________________________________________\n",
            "dense_3 (Dense)              (None, 5)                 645       \n",
            "=================================================================\n",
            "Total params: 256,864,133\n",
            "Trainable params: 66,309\n",
            "Non-trainable params: 256,797,824\n",
            "_________________________________________________________________\n"
          ]
        }
      ]
    },
    {
      "cell_type": "code",
      "metadata": {
        "id": "xIQsM7PBEWRC",
        "colab": {
          "base_uri": "https://localhost:8080/"
        },
        "outputId": "f29db398-fff1-43db-d42e-b2e923e14960"
      },
      "source": [
        "model_2.compile(\n",
        "    loss = 'categorical_crossentropy',\n",
        "    optimizer = Adam(),\n",
        "    metrics = ['accuracy'],\n",
        ")\n",
        "\n",
        "history_2 = model_2.fit(\n",
        "    train_dataset,\n",
        "    epochs = 5,\n",
        "    steps_per_epoch = len(train_dataset),\n",
        "    validation_data = val_dataset,\n",
        "    validation_steps = int(0.15 * len(val_dataset)),\n",
        ")"
      ],
      "execution_count": 55,
      "outputs": [
        {
          "output_type": "stream",
          "name": "stdout",
          "text": [
            "Epoch 1/5\n",
            "5627/5627 [==============================] - 103s 18ms/step - loss: 0.7277 - accuracy: 0.7218 - val_loss: 0.6439 - val_accuracy: 0.7547\n",
            "Epoch 2/5\n",
            "5627/5627 [==============================] - 99s 18ms/step - loss: 0.6344 - accuracy: 0.7592 - val_loss: 0.6109 - val_accuracy: 0.7688\n",
            "Epoch 3/5\n",
            "5627/5627 [==============================] - 99s 18ms/step - loss: 0.6007 - accuracy: 0.7727 - val_loss: 0.5962 - val_accuracy: 0.7730\n",
            "Epoch 4/5\n",
            "5627/5627 [==============================] - 100s 18ms/step - loss: 0.5787 - accuracy: 0.7818 - val_loss: 0.5916 - val_accuracy: 0.7768\n",
            "Epoch 5/5\n",
            "5627/5627 [==============================] - 98s 17ms/step - loss: 0.5621 - accuracy: 0.7881 - val_loss: 0.5902 - val_accuracy: 0.7739\n"
          ]
        }
      ]
    },
    {
      "cell_type": "code",
      "metadata": {
        "id": "iDuH6-W_Ey6w",
        "colab": {
          "base_uri": "https://localhost:8080/"
        },
        "outputId": "64476fb6-81a4-49fe-dc1f-cacf03ebe073"
      },
      "source": [
        "model_2.evaluate(val_dataset)"
      ],
      "execution_count": 56,
      "outputs": [
        {
          "output_type": "stream",
          "name": "stdout",
          "text": [
            "945/945 [==============================] - 16s 17ms/step - loss: 0.5977 - accuracy: 0.7735\n"
          ]
        },
        {
          "output_type": "execute_result",
          "data": {
            "text/plain": [
              "[0.5977369546890259, 0.7735337018966675]"
            ]
          },
          "metadata": {},
          "execution_count": 56
        }
      ]
    },
    {
      "cell_type": "code",
      "metadata": {
        "id": "HatrWHpoI1DJ"
      },
      "source": [
        "model_2_pred = tf.squeeze(tf.round(model_2.predict(val_dataset)))"
      ],
      "execution_count": 57,
      "outputs": []
    },
    {
      "cell_type": "code",
      "metadata": {
        "id": "HWoKATXoJaHL"
      },
      "source": [
        "model_2_pred = tf.argmax(model_2_pred, axis=1)"
      ],
      "execution_count": 58,
      "outputs": []
    },
    {
      "cell_type": "code",
      "metadata": {
        "id": "tUT8xLNaJGOK",
        "colab": {
          "base_uri": "https://localhost:8080/"
        },
        "outputId": "2449eb33-1bb0-48ef-b366-f8dce62f11cf"
      },
      "source": [
        "model_2_result = calculate_result(val_label_encoded, model_2_pred)\n",
        "model_2_result"
      ],
      "execution_count": 59,
      "outputs": [
        {
          "output_type": "execute_result",
          "data": {
            "text/plain": [
              "{'accurecy': 0.7563550906924401,\n",
              " 'f1-score': 0.7582888543850633,\n",
              " 'precision': 0.7831869108744773,\n",
              " 'recall': 0.7563550906924401}"
            ]
          },
          "metadata": {},
          "execution_count": 59
        }
      ]
    },
    {
      "cell_type": "markdown",
      "metadata": {
        "id": "tjsBLocOJ_uF"
      },
      "source": [
        "# **Character level Tokeninzer**"
      ]
    },
    {
      "cell_type": "markdown",
      "metadata": {
        "id": "NU7SORaGKx9S"
      },
      "source": [
        "* Function to split sentences into characters"
      ]
    },
    {
      "cell_type": "code",
      "metadata": {
        "id": "_Tn0hUMIJzJ3"
      },
      "source": [
        "def split_character(text):\n",
        "  return ' '.join(list(text))"
      ],
      "execution_count": 60,
      "outputs": []
    },
    {
      "cell_type": "code",
      "metadata": {
        "id": "GoBFSz3ILAn5",
        "colab": {
          "base_uri": "https://localhost:8080/",
          "height": 36
        },
        "outputId": "ef9bf196-250a-4735-eb35-d500fa7a6e6d"
      },
      "source": [
        "split_character('I love Tensorflow')"
      ],
      "execution_count": 61,
      "outputs": [
        {
          "output_type": "execute_result",
          "data": {
            "application/vnd.google.colaboratory.intrinsic+json": {
              "type": "string"
            },
            "text/plain": [
              "'I   l o v e   T e n s o r f l o w'"
            ]
          },
          "metadata": {},
          "execution_count": 61
        }
      ]
    },
    {
      "cell_type": "markdown",
      "metadata": {
        "id": "9OH-k_MxLJKE"
      },
      "source": [
        "* Appling split function to all datasets"
      ]
    },
    {
      "cell_type": "code",
      "metadata": {
        "id": "aKHq9yJHLDPu"
      },
      "source": [
        "train_chars = [split_character(sentences) for sentences in train_sentences]\n",
        "val_chars = [split_character(sentences) for sentences in val_sentences]\n",
        "test_chars = [split_character(sentences) for sentences in test_sentences]"
      ],
      "execution_count": 62,
      "outputs": []
    },
    {
      "cell_type": "markdown",
      "metadata": {
        "id": "bhRw9U6gLy9u"
      },
      "source": [
        "* Average character length"
      ]
    },
    {
      "cell_type": "code",
      "metadata": {
        "id": "VbZrrt9VLYtM",
        "colab": {
          "base_uri": "https://localhost:8080/"
        },
        "outputId": "bf1ab9f6-a8c4-475c-840b-b0c7e1767443"
      },
      "source": [
        "char_lens = [len(sentence) for sentence in train_sentences]\n",
        "mean_char_len = np.mean(char_lens)\n",
        "mean_char_len"
      ],
      "execution_count": 63,
      "outputs": [
        {
          "output_type": "execute_result",
          "data": {
            "text/plain": [
              "149.3662574983337"
            ]
          },
          "metadata": {},
          "execution_count": 63
        }
      ]
    },
    {
      "cell_type": "code",
      "metadata": {
        "id": "bOUUs8f-MFcZ",
        "colab": {
          "base_uri": "https://localhost:8080/",
          "height": 265
        },
        "outputId": "42e44a87-d14e-4602-c0a0-ac2083ae66d3"
      },
      "source": [
        "plt.hist(char_lens, bins=7);"
      ],
      "execution_count": 64,
      "outputs": [
        {
          "output_type": "display_data",
          "data": {
            "image/png": "[encoded data removed]",
            "text/plain": [
              "<Figure size 432x288 with 1 Axes>"
            ]
          },
          "metadata": {
            "needs_background": "light"
          }
        }
      ]
    },
    {
      "cell_type": "code",
      "metadata": {
        "id": "k0fHRh08MSSN",
        "colab": {
          "base_uri": "https://localhost:8080/"
        },
        "outputId": "eeb3c690-9a7e-4817-9922-9c715d4f4b07"
      },
      "source": [
        "output_seq_char_len = int(np.percentile(char_lens, 95))\n",
        "output_seq_char_len"
      ],
      "execution_count": 65,
      "outputs": [
        {
          "output_type": "execute_result",
          "data": {
            "text/plain": [
              "290"
            ]
          },
          "metadata": {},
          "execution_count": 65
        }
      ]
    },
    {
      "cell_type": "code",
      "metadata": {
        "id": "b1K_n9DDMhmG",
        "colab": {
          "base_uri": "https://localhost:8080/",
          "height": 36
        },
        "outputId": "cd3d6503-1fe4-46d6-a05a-6f466f55dd11"
      },
      "source": [
        "# Get all keyboard characters for char-level embedding\n",
        "import string\n",
        "alphabet = string.ascii_lowercase + string.digits + string.punctuation\n",
        "alphabet"
      ],
      "execution_count": 66,
      "outputs": [
        {
          "output_type": "execute_result",
          "data": {
            "application/vnd.google.colaboratory.intrinsic+json": {
              "type": "string"
            },
            "text/plain": [
              "'abcdefghijklmnopqrstuvwxyz0123456789!\"#$%&\\'()*+,-./:;<=>?@[\\\\]^_`{|}~'"
            ]
          },
          "metadata": {},
          "execution_count": 66
        }
      ]
    },
    {
      "cell_type": "markdown",
      "metadata": {
        "id": "E1leXtIsNIgS"
      },
      "source": [
        "* Character Level Tokenizer"
      ]
    },
    {
      "cell_type": "code",
      "metadata": {
        "id": "uXndzd45NEPD"
      },
      "source": [
        "NUM_CHAR_TOKEN = len(alphabet) + 2\n",
        "\n",
        "char_vectorizer = TextVectorization(\n",
        "    max_tokens = NUM_CHAR_TOKEN,\n",
        "    output_sequence_length = output_seq_char_len,\n",
        ")"
      ],
      "execution_count": 67,
      "outputs": []
    },
    {
      "cell_type": "code",
      "metadata": {
        "id": "VzdNo4SbNj_K"
      },
      "source": [
        "char_vectorizer.adapt(train_chars)"
      ],
      "execution_count": 68,
      "outputs": []
    },
    {
      "cell_type": "code",
      "metadata": {
        "id": "BClu1wM-Nsn6",
        "colab": {
          "base_uri": "https://localhost:8080/"
        },
        "outputId": "f10a9310-a813-430d-88ee-878d324d1408"
      },
      "source": [
        "char_vocab = char_vectorizer.get_vocabulary()\n",
        "print(f\"Number of different characters in character vocab: {len(char_vocab)}\")\n",
        "print(f\"5 most common characters: {char_vocab[:5]}\")\n",
        "print(f\"5 least common characters: {char_vocab[-5:]}\")"
      ],
      "execution_count": 69,
      "outputs": [
        {
          "output_type": "stream",
          "name": "stdout",
          "text": [
            "Number of different characters in character vocab: 28\n",
            "5 most common characters: ['', '[UNK]', 'e', 't', 'i']\n",
            "5 least common characters: ['k', 'x', 'z', 'q', 'j']\n"
          ]
        }
      ]
    },
    {
      "cell_type": "markdown",
      "metadata": {
        "id": "SlkFIG3COQrE"
      },
      "source": [
        "# Character level Embedding layer"
      ]
    },
    {
      "cell_type": "code",
      "metadata": {
        "id": "JgMjh-F-N3Bp"
      },
      "source": [
        "char_embedding = Embedding(\n",
        "    input_dim = len(char_vocab),\n",
        "    output_dim = 25,\n",
        "    mask_zero = True,\n",
        "    name = 'char_embed'\n",
        ")"
      ],
      "execution_count": 82,
      "outputs": []
    },
    {
      "cell_type": "code",
      "metadata": {
        "id": "zi_HyrxRWJ3M"
      },
      "source": [
        "train_char_dataset = tf.data.Dataset.from_tensor_slices((train_chars, train_labels_one_hot))\n",
        "val_char_dataset = tf.data.Dataset.from_tensor_slices((val_chars, val_labels_one_hot))\n",
        "test_char_dataset = tf.data.Dataset.from_tensor_slices((test_chars, test_labels_one_hot))"
      ],
      "execution_count": 71,
      "outputs": []
    },
    {
      "cell_type": "code",
      "metadata": {
        "id": "11xvWWcWWpwI"
      },
      "source": [
        "train_char_dataset = train_char_dataset.batch(32).prefetch(tf.data.AUTOTUNE)\n",
        "val_char_dataset = val_char_dataset.batch(32).prefetch(tf.data.AUTOTUNE)\n",
        "test_char_dataset = test_char_dataset.batch(32).prefetch(tf.data.AUTOTUNE)"
      ],
      "execution_count": 72,
      "outputs": []
    },
    {
      "cell_type": "markdown",
      "metadata": {
        "id": "GxbW6DeiOvnf"
      },
      "source": [
        "## 4. Conv1D Model with char level Embedding"
      ]
    },
    {
      "cell_type": "code",
      "metadata": {
        "id": "5Zkb3ti7Op8E"
      },
      "source": [
        "inputs = layers.Input(shape=(1,), dtype=tf.string)\n",
        "x = char_vectorizer(inputs)\n",
        "x = char_embedding(x)\n",
        "x = layers.Conv1D(\n",
        "    filters = 64,\n",
        "    kernel_size = 5,\n",
        "    padding = 'same',\n",
        "    activation= 'relu',\n",
        ")(x)\n",
        "\n",
        "x = layers.GlobalMaxPooling1D()(x)\n",
        "x = layers.Dense(64, activation='relu')(x)\n",
        "outputs = layers.Dense(num_classes, activation='softmax')(x)\n",
        "\n",
        "model_3 = tf.keras.Model(inputs, outputs)"
      ],
      "execution_count": 73,
      "outputs": []
    },
    {
      "cell_type": "code",
      "metadata": {
        "id": "CUnsb6w2UYer",
        "colab": {
          "base_uri": "https://localhost:8080/"
        },
        "outputId": "736bebfb-c934-4b31-a127-320cb8c42f2d"
      },
      "source": [
        "model_3.summary()"
      ],
      "execution_count": 74,
      "outputs": [
        {
          "output_type": "stream",
          "name": "stdout",
          "text": [
            "Model: \"model_2\"\n",
            "_________________________________________________________________\n",
            "Layer (type)                 Output Shape              Param #   \n",
            "=================================================================\n",
            "input_3 (InputLayer)         [(None, 1)]               0         \n",
            "_________________________________________________________________\n",
            "text_vectorization_1 (TextVe (None, 290)               0         \n",
            "_________________________________________________________________\n",
            "char_embed (Embedding)       (None, 290, 25)           700       \n",
            "_________________________________________________________________\n",
            "conv1d_1 (Conv1D)            (None, 290, 64)           8064      \n",
            "_________________________________________________________________\n",
            "global_max_pooling1d_1 (Glob (None, 64)                0         \n",
            "_________________________________________________________________\n",
            "dense_4 (Dense)              (None, 64)                4160      \n",
            "_________________________________________________________________\n",
            "dense_5 (Dense)              (None, 5)                 325       \n",
            "=================================================================\n",
            "Total params: 13,249\n",
            "Trainable params: 13,249\n",
            "Non-trainable params: 0\n",
            "_________________________________________________________________\n"
          ]
        }
      ]
    },
    {
      "cell_type": "code",
      "metadata": {
        "id": "1LTKBa9oXQiU",
        "colab": {
          "base_uri": "https://localhost:8080/"
        },
        "outputId": "7c607df4-cfbe-4b30-c497-adae8baa326f"
      },
      "source": [
        "model_3.compile(\n",
        "    loss = 'categorical_crossentropy',\n",
        "    optimizer = Adam(),\n",
        "    metrics = ['accuracy'],\n",
        ")\n",
        "\n",
        "history_3 = model_3.fit(\n",
        "    train_char_dataset,\n",
        "    epochs = 5,\n",
        "    steps_per_epoch = len(train_char_dataset),\n",
        "    validation_data = val_char_dataset,\n",
        "    validation_steps = int(0.15 * len(val_char_dataset)),\n",
        ")"
      ],
      "execution_count": 75,
      "outputs": [
        {
          "output_type": "stream",
          "name": "stdout",
          "text": [
            "Epoch 1/5\n",
            "5627/5627 [==============================] - 53s 9ms/step - loss: 0.8701 - accuracy: 0.6542 - val_loss: 0.7583 - val_accuracy: 0.7121\n",
            "Epoch 2/5\n",
            "5627/5627 [==============================] - 52s 9ms/step - loss: 0.7351 - accuracy: 0.7176 - val_loss: 0.7151 - val_accuracy: 0.7363\n",
            "Epoch 3/5\n",
            "5627/5627 [==============================] - 51s 9ms/step - loss: 0.6885 - accuracy: 0.7389 - val_loss: 0.6996 - val_accuracy: 0.7356\n",
            "Epoch 4/5\n",
            "5627/5627 [==============================] - 53s 10ms/step - loss: 0.6629 - accuracy: 0.7489 - val_loss: 0.7028 - val_accuracy: 0.7349\n",
            "Epoch 5/5\n",
            "5627/5627 [==============================] - 52s 9ms/step - loss: 0.6453 - accuracy: 0.7554 - val_loss: 0.6918 - val_accuracy: 0.7383\n"
          ]
        }
      ]
    },
    {
      "cell_type": "code",
      "metadata": {
        "id": "DTM0E8R3Xuba",
        "colab": {
          "base_uri": "https://localhost:8080/"
        },
        "outputId": "104c5307-4008-4e48-8013-c62faf018ecf"
      },
      "source": [
        "model_3.evaluate(val_char_dataset)"
      ],
      "execution_count": 76,
      "outputs": [
        {
          "output_type": "stream",
          "name": "stdout",
          "text": [
            "945/945 [==============================] - 5s 5ms/step - loss: 0.6927 - accuracy: 0.7402\n"
          ]
        },
        {
          "output_type": "execute_result",
          "data": {
            "text/plain": [
              "[0.6927297711372375, 0.7402025461196899]"
            ]
          },
          "metadata": {},
          "execution_count": 76
        }
      ]
    },
    {
      "cell_type": "code",
      "metadata": {
        "id": "JtXcjzzAZL5x",
        "colab": {
          "base_uri": "https://localhost:8080/"
        },
        "outputId": "4357cccf-0cf8-4ff6-dde5-c4b44781d9f2"
      },
      "source": [
        "model_3_pred = tf.squeeze(tf.round(model_3.predict(val_char_dataset)))\n",
        "\n",
        "model_3_pred = tf.argmax(model_3_pred, axis=1)\n",
        "\n",
        "model_3_result = calculate_result(val_label_encoded, model_3_pred)\n",
        "model_3_result"
      ],
      "execution_count": 77,
      "outputs": [
        {
          "output_type": "execute_result",
          "data": {
            "text/plain": [
              "{'accurecy': 0.7322587051502714,\n",
              " 'f1-score': 0.7282736396907652,\n",
              " 'precision': 0.7541771440937325,\n",
              " 'recall': 0.7322587051502714}"
            ]
          },
          "metadata": {},
          "execution_count": 77
        }
      ]
    },
    {
      "cell_type": "markdown",
      "metadata": {
        "id": "g0a30udAaU4I"
      },
      "source": [
        "## 5.  Combining pretrained token embedding and character level embedding"
      ]
    },
    {
      "cell_type": "code",
      "metadata": {
        "id": "0vV5JlW3ZlAr"
      },
      "source": [
        "# token inputs\n",
        "token_inputs = layers.Input(shape=[], dtype=tf.string, name='token_inputs')\n",
        "token_embeddings = tf_hub_embedding_layer(token_inputs)\n",
        "token_outputs = layers.Dense(128, activation='relu')(token_embeddings)\n",
        "token_model = tf.keras.Model(token_inputs, token_outputs)\n",
        "\n",
        "# Charater imputs\n",
        "char_inputs = layers.Input(shape=(1,), dtype=tf.string, name='char_input')\n",
        "char_vectors = char_vectorizer(char_inputs)\n",
        "char_embeddings = char_embedding(char_vectors)\n",
        "char_bi_lstm = layers.Bidirectional(layers.LSTM(24))(char_embeddings)\n",
        "char_model = tf.keras.Model(char_inputs, char_bi_lstm)\n",
        "\n",
        "# Concat layer \n",
        "token_char_concat = layers.Concatenate(name='concat_layer')([token_model.output,\n",
        "                                                             char_model.output])\n",
        "\n",
        "# output layers\n",
        "combined_dropout = layers.Dropout(0.5)(token_char_concat)\n",
        "combined_dence = layers.Dense(128, activation='relu')(combined_dropout)\n",
        "final_dropout = layers.Dropout(0.5)(combined_dence)\n",
        "output_layer = layers.Dense(num_classes, activation='softmax')(final_dropout)"
      ],
      "execution_count": 86,
      "outputs": []
    },
    {
      "cell_type": "code",
      "metadata": {
        "id": "Rmfljy2W3aNC"
      },
      "source": [
        "# model\n",
        "model_4 = tf.keras.Model(inputs=[token_model.input, char_model.input],\n",
        "                         outputs=output_layer\n",
        ")"
      ],
      "execution_count": 87,
      "outputs": []
    },
    {
      "cell_type": "code",
      "metadata": {
        "colab": {
          "base_uri": "https://localhost:8080/"
        },
        "id": "BAA3Jh1c3aob",
        "outputId": "635b12ac-1e5e-4aa1-e289-c09337bda542"
      },
      "source": [
        "model_4.summary()"
      ],
      "execution_count": 88,
      "outputs": [
        {
          "output_type": "stream",
          "name": "stdout",
          "text": [
            "Model: \"model_14\"\n",
            "__________________________________________________________________________________________________\n",
            "Layer (type)                    Output Shape         Param #     Connected to                     \n",
            "==================================================================================================\n",
            "char_input (InputLayer)         [(None, 1)]          0                                            \n",
            "__________________________________________________________________________________________________\n",
            "token_inputs (InputLayer)       [(None,)]            0                                            \n",
            "__________________________________________________________________________________________________\n",
            "text_vectorization_1 (TextVecto (None, 290)          0           char_input[0][0]                 \n",
            "__________________________________________________________________________________________________\n",
            "universal_sentence_encoder (Ker (None, 512)          256797824   token_inputs[0][0]               \n",
            "__________________________________________________________________________________________________\n",
            "char_embed (Embedding)          (None, 290, 25)      700         text_vectorization_1[7][0]       \n",
            "__________________________________________________________________________________________________\n",
            "dense_14 (Dense)                (None, 128)          65664       universal_sentence_encoder[8][0] \n",
            "__________________________________________________________________________________________________\n",
            "bidirectional_3 (Bidirectional) (None, 48)           9600        char_embed[2][0]                 \n",
            "__________________________________________________________________________________________________\n",
            "concat_layer (Concatenate)      (None, 176)          0           dense_14[0][0]                   \n",
            "                                                                 bidirectional_3[0][0]            \n",
            "__________________________________________________________________________________________________\n",
            "dropout_1 (Dropout)             (None, 176)          0           concat_layer[0][0]               \n",
            "__________________________________________________________________________________________________\n",
            "dense_15 (Dense)                (None, 128)          22656       dropout_1[0][0]                  \n",
            "__________________________________________________________________________________________________\n",
            "dropout_2 (Dropout)             (None, 128)          0           dense_15[0][0]                   \n",
            "__________________________________________________________________________________________________\n",
            "dense_16 (Dense)                (None, 5)            645         dropout_2[0][0]                  \n",
            "==================================================================================================\n",
            "Total params: 256,897,089\n",
            "Trainable params: 99,265\n",
            "Non-trainable params: 256,797,824\n",
            "__________________________________________________________________________________________________\n"
          ]
        }
      ]
    },
    {
      "cell_type": "code",
      "metadata": {
        "id": "_0KBdw4JlAFk",
        "colab": {
          "base_uri": "https://localhost:8080/",
          "height": 976
        },
        "outputId": "d12e4e7a-ebb6-495e-9fce-7bb4ff485c92"
      },
      "source": [
        "from tensorflow.keras.utils import plot_model\n",
        "plot_model(model_4, show_shapes=True)"
      ],
      "execution_count": 90,
      "outputs": [
        {
          "output_type": "execute_result",
          "data": {
            "image/png": "[encoded data removed]",
            "text/plain": [
              "<IPython.core.display.Image object>"
            ]
          },
          "metadata": {},
          "execution_count": 90
        }
      ]
    },
    {
      "cell_type": "code",
      "metadata": {
        "id": "ueuC8H-z0Sx-"
      },
      "source": [
        "model_4.compile(\n",
        "    loss='categorical_crossentropy',\n",
        "    optimizer = Adam(),\n",
        "    metrics = ['accuracy']\n",
        ")"
      ],
      "execution_count": 91,
      "outputs": []
    },
    {
      "cell_type": "markdown",
      "metadata": {
        "id": "7GL_XQ294356"
      },
      "source": [
        "### Combining token and character data "
      ]
    },
    {
      "cell_type": "code",
      "metadata": {
        "id": "FV7dk7pt41eP"
      },
      "source": [
        "train_char_token_data = tf.data.Dataset.from_tensor_slices((train_sentences, train_chars))\n",
        "train_char_token_labels = tf.data.Dataset.from_tensor_slices(train_labels_one_hot)\n",
        "train_char_token_dataset = tf.data.Dataset.zip((train_char_token_data, train_char_token_labels))\n",
        "\n",
        "train_char_token_dataset = train_char_token_dataset.batch(32).prefetch(tf.data.AUTOTUNE)"
      ],
      "execution_count": 92,
      "outputs": []
    },
    {
      "cell_type": "code",
      "metadata": {
        "id": "_L_6BLtD6kmQ"
      },
      "source": [
        "val_char_token_data = tf.data.Dataset.from_tensor_slices((val_sentences, val_chars))\n",
        "val_char_token_labels = tf.data.Dataset.from_tensor_slices(val_labels_one_hot)\n",
        "val_char_token_dataset = tf.data.Dataset.zip((val_char_token_data, val_char_token_labels))\n",
        "\n",
        "val_char_token_dataset = val_char_token_dataset.batch(32).prefetch(tf.data.AUTOTUNE)"
      ],
      "execution_count": 93,
      "outputs": []
    },
    {
      "cell_type": "code",
      "metadata": {
        "id": "5ylTx7ZX6xVB"
      },
      "source": [
        "test_char_token_data = tf.data.Dataset.from_tensor_slices((test_sentences, test_chars))\n",
        "test_char_token_labels = tf.data.Dataset.from_tensor_slices(test_labels_one_hot)\n",
        "test_char_token_dataset = tf.data.Dataset.zip((test_char_token_data, test_char_token_labels))\n",
        "\n",
        "test_char_token_dataset = test_char_token_dataset.batch(32).prefetch(tf.data.AUTOTUNE)"
      ],
      "execution_count": 94,
      "outputs": []
    },
    {
      "cell_type": "code",
      "metadata": {
        "colab": {
          "base_uri": "https://localhost:8080/"
        },
        "id": "Rq0yJn3T7CYZ",
        "outputId": "1891b05a-375a-45af-f407-08114409af36"
      },
      "source": [
        "train_char_token_dataset"
      ],
      "execution_count": 95,
      "outputs": [
        {
          "output_type": "execute_result",
          "data": {
            "text/plain": [
              "<PrefetchDataset shapes: (((None,), (None,)), (None, 5)), types: ((tf.string, tf.string), tf.float64)>"
            ]
          },
          "metadata": {},
          "execution_count": 95
        }
      ]
    },
    {
      "cell_type": "code",
      "metadata": {
        "colab": {
          "base_uri": "https://localhost:8080/"
        },
        "id": "xYSjPEMj7Oq4",
        "outputId": "5d9ca7e3-e17f-4591-a12f-78bf6a546702"
      },
      "source": [
        "history_4 = model_4.fit(\n",
        "    train_char_token_dataset,\n",
        "    epochs = 5,\n",
        "    steps_per_epoch = len(train_char_token_dataset),\n",
        "    validation_data = val_char_token_dataset,\n",
        "    validation_steps = int(0.15 * len(val_char_token_dataset)),\n",
        ")"
      ],
      "execution_count": 96,
      "outputs": [
        {
          "output_type": "stream",
          "name": "stdout",
          "text": [
            "Epoch 1/5\n",
            "5627/5627 [==============================] - 695s 122ms/step - loss: 0.7664 - accuracy: 0.7068 - val_loss: 0.6220 - val_accuracy: 0.7686\n",
            "Epoch 2/5\n",
            "5627/5627 [==============================] - 691s 123ms/step - loss: 0.6834 - accuracy: 0.7435 - val_loss: 0.5968 - val_accuracy: 0.7744\n",
            "Epoch 3/5\n",
            "5627/5627 [==============================] - 684s 122ms/step - loss: 0.6591 - accuracy: 0.7523 - val_loss: 0.5810 - val_accuracy: 0.7841\n",
            "Epoch 4/5\n",
            "5627/5627 [==============================] - 679s 121ms/step - loss: 0.6446 - accuracy: 0.7577 - val_loss: 0.5722 - val_accuracy: 0.7848\n",
            "Epoch 5/5\n",
            "5627/5627 [==============================] - 685s 122ms/step - loss: 0.6327 - accuracy: 0.7626 - val_loss: 0.5640 - val_accuracy: 0.7879\n"
          ]
        }
      ]
    },
    {
      "cell_type": "code",
      "metadata": {
        "colab": {
          "base_uri": "https://localhost:8080/"
        },
        "id": "DZ3Z8sJp7s-p",
        "outputId": "b1cf7d31-b06a-49ba-f154-daadebd56c65"
      },
      "source": [
        "model_4.evaluate(val_char_token_dataset)"
      ],
      "execution_count": 97,
      "outputs": [
        {
          "output_type": "stream",
          "name": "stdout",
          "text": [
            "945/945 [==============================] - 50s 52ms/step - loss: 0.5726 - accuracy: 0.7832\n"
          ]
        },
        {
          "output_type": "execute_result",
          "data": {
            "text/plain": [
              "[0.5726495385169983, 0.7831987142562866]"
            ]
          },
          "metadata": {},
          "execution_count": 97
        }
      ]
    },
    {
      "cell_type": "code",
      "metadata": {
        "colab": {
          "base_uri": "https://localhost:8080/"
        },
        "id": "kjFmUZesLe-J",
        "outputId": "ba290500-bedb-42ae-a793-dfc54ac758e6"
      },
      "source": [
        "model_4_pred = tf.squeeze(tf.round(model_4.predict(val_char_token_dataset)))\n",
        "\n",
        "model_4_pred = tf.argmax(model_4_pred, axis=1)\n",
        "\n",
        "model_4_result = calculate_result(val_label_encoded, model_4_pred)\n",
        "model_4_result"
      ],
      "execution_count": 98,
      "outputs": [
        {
          "output_type": "execute_result",
          "data": {
            "text/plain": [
              "{'accurecy': 0.7674103005428307,\n",
              " 'f1-score': 0.7697678525765891,\n",
              " 'precision': 0.7951733559074481,\n",
              " 'recall': 0.7674103005428307}"
            ]
          },
          "metadata": {},
          "execution_count": 98
        }
      ]
    },
    {
      "cell_type": "code",
      "metadata": {
        "colab": {
          "base_uri": "https://localhost:8080/"
        },
        "id": "-4uAmGd6Lr11",
        "outputId": "3699152a-6f24-4e77-ada7-3ad172861db1"
      },
      "source": [
        "model_1_result"
      ],
      "execution_count": 99,
      "outputs": [
        {
          "output_type": "execute_result",
          "data": {
            "text/plain": [
              "{'accurecy': 0.7942208394015623,\n",
              " 'f1-score': 0.7915455076497933,\n",
              " 'precision': 0.7903191982897041,\n",
              " 'recall': 0.7942208394015623}"
            ]
          },
          "metadata": {},
          "execution_count": 99
        }
      ]
    },
    {
      "cell_type": "markdown",
      "metadata": {
        "id": "K2p4M_v2Nz-b"
      },
      "source": [
        "# Positional Embedding Layer"
      ]
    },
    {
      "cell_type": "code",
      "metadata": {
        "colab": {
          "base_uri": "https://localhost:8080/",
          "height": 204
        },
        "id": "6CV9c7YZNF3Q",
        "outputId": "aa4ba4ee-a282-4b85-fb9b-206450b80079"
      },
      "source": [
        "train_df.head()"
      ],
      "execution_count": 100,
      "outputs": [
        {
          "output_type": "execute_result",
          "data": {
            "text/html": [
              "<div>\n",
              "<style scoped>\n",
              "    .dataframe tbody tr th:only-of-type {\n",
              "        vertical-align: middle;\n",
              "    }\n",
              "\n",
              "    .dataframe tbody tr th {\n",
              "        vertical-align: top;\n",
              "    }\n",
              "\n",
              "    .dataframe thead th {\n",
              "        text-align: right;\n",
              "    }\n",
              "</style>\n",
              "<table border=\"1\" class=\"dataframe\">\n",
              "  <thead>\n",
              "    <tr style=\"text-align: right;\">\n",
              "      <th></th>\n",
              "      <th>target</th>\n",
              "      <th>text</th>\n",
              "      <th>line_number</th>\n",
              "      <th>total_lines</th>\n",
              "    </tr>\n",
              "  </thead>\n",
              "  <tbody>\n",
              "    <tr>\n",
              "      <th>0</th>\n",
              "      <td>OBJECTIVE</td>\n",
              "      <td>to investigate the efficacy of @ weeks of dail...</td>\n",
              "      <td>0</td>\n",
              "      <td>11</td>\n",
              "    </tr>\n",
              "    <tr>\n",
              "      <th>1</th>\n",
              "      <td>METHODS</td>\n",
              "      <td>a total of @ patients with primary knee oa wer...</td>\n",
              "      <td>1</td>\n",
              "      <td>11</td>\n",
              "    </tr>\n",
              "    <tr>\n",
              "      <th>2</th>\n",
              "      <td>METHODS</td>\n",
              "      <td>outcome measures included pain reduction and i...</td>\n",
              "      <td>2</td>\n",
              "      <td>11</td>\n",
              "    </tr>\n",
              "    <tr>\n",
              "      <th>3</th>\n",
              "      <td>METHODS</td>\n",
              "      <td>pain was assessed using the visual analog pain...</td>\n",
              "      <td>3</td>\n",
              "      <td>11</td>\n",
              "    </tr>\n",
              "    <tr>\n",
              "      <th>4</th>\n",
              "      <td>METHODS</td>\n",
              "      <td>secondary outcome measures included the wester...</td>\n",
              "      <td>4</td>\n",
              "      <td>11</td>\n",
              "    </tr>\n",
              "  </tbody>\n",
              "</table>\n",
              "</div>"
            ],
            "text/plain": [
              "      target  ... total_lines\n",
              "0  OBJECTIVE  ...          11\n",
              "1    METHODS  ...          11\n",
              "2    METHODS  ...          11\n",
              "3    METHODS  ...          11\n",
              "4    METHODS  ...          11\n",
              "\n",
              "[5 rows x 4 columns]"
            ]
          },
          "metadata": {},
          "execution_count": 100
        }
      ]
    },
    {
      "cell_type": "code",
      "metadata": {
        "colab": {
          "base_uri": "https://localhost:8080/",
          "height": 265
        },
        "id": "4AGY_iovSRJ9",
        "outputId": "ae991602-b8a5-4cbd-ba14-be11cae39c3d"
      },
      "source": [
        "train_df['line_number'].plot.hist();"
      ],
      "execution_count": 107,
      "outputs": [
        {
          "output_type": "display_data",
          "data": {
            "image/png": "[encoded data removed]",
            "text/plain": [
              "<Figure size 432x288 with 1 Axes>"
            ]
          },
          "metadata": {
            "needs_background": "light"
          }
        }
      ]
    },
    {
      "cell_type": "code",
      "metadata": {
        "colab": {
          "base_uri": "https://localhost:8080/"
        },
        "id": "BHPMEg9OQP8s",
        "outputId": "8e57672b-e95e-404c-de09-fcde72cf1266"
      },
      "source": [
        "train_line_number_one_hot = tf.one_hot(train_df['line_number'].to_numpy(), depth=15)\n",
        "val_line_number_one_hot = tf.one_hot(val_df['line_number'].to_numpy(), depth=15)\n",
        "test_line_number_one_hot = tf.one_hot(test_df['line_number'].to_numpy(), depth=15)\n",
        "\n",
        "\n",
        "train_line_number_one_hot[:5], train_line_number_one_hot.shape"
      ],
      "execution_count": 102,
      "outputs": [
        {
          "output_type": "execute_result",
          "data": {
            "text/plain": [
              "(<tf.Tensor: shape=(5, 15), dtype=float32, numpy=\n",
              " array([[1., 0., 0., 0., 0., 0., 0., 0., 0., 0., 0., 0., 0., 0., 0.],\n",
              "        [0., 1., 0., 0., 0., 0., 0., 0., 0., 0., 0., 0., 0., 0., 0.],\n",
              "        [0., 0., 1., 0., 0., 0., 0., 0., 0., 0., 0., 0., 0., 0., 0.],\n",
              "        [0., 0., 0., 1., 0., 0., 0., 0., 0., 0., 0., 0., 0., 0., 0.],\n",
              "        [0., 0., 0., 0., 1., 0., 0., 0., 0., 0., 0., 0., 0., 0., 0.]],\n",
              "       dtype=float32)>, TensorShape([180040, 15]))"
            ]
          },
          "metadata": {},
          "execution_count": 102
        }
      ]
    },
    {
      "cell_type": "code",
      "metadata": {
        "colab": {
          "base_uri": "https://localhost:8080/",
          "height": 267
        },
        "id": "5aA7inBCQ9i6",
        "outputId": "f9dc793d-03f8-486d-9fd6-d8eba5ac8ed6"
      },
      "source": [
        "train_df['total_lines'].plot.hist();"
      ],
      "execution_count": 105,
      "outputs": [
        {
          "output_type": "display_data",
          "data": {
            "image/png": "[encoded data removed]",
            "text/plain": [
              "<Figure size 432x288 with 1 Axes>"
            ]
          },
          "metadata": {
            "needs_background": "light"
          }
        }
      ]
    },
    {
      "cell_type": "code",
      "metadata": {
        "colab": {
          "base_uri": "https://localhost:8080/"
        },
        "id": "Cmup49veRmgW",
        "outputId": "3842104c-9673-4470-8228-09c280b69b5c"
      },
      "source": [
        "train_total_line_number_one_hot = tf.one_hot(train_df['total_lines'].to_numpy(), depth=20)\n",
        "val_total_line_number_one_hot = tf.one_hot(val_df['total_lines'].to_numpy(), depth=20)\n",
        "test_total_line_number_one_hot = tf.one_hot(test_df['total_lines'].to_numpy(), depth=20)\n",
        "\n",
        "\n",
        "train_total_line_number_one_hot[:5], train_line_number_one_hot.shape"
      ],
      "execution_count": 106,
      "outputs": [
        {
          "output_type": "execute_result",
          "data": {
            "text/plain": [
              "(<tf.Tensor: shape=(5, 20), dtype=float32, numpy=\n",
              " array([[0., 0., 0., 0., 0., 0., 0., 0., 0., 0., 0., 1., 0., 0., 0., 0.,\n",
              "         0., 0., 0., 0.],\n",
              "        [0., 0., 0., 0., 0., 0., 0., 0., 0., 0., 0., 1., 0., 0., 0., 0.,\n",
              "         0., 0., 0., 0.],\n",
              "        [0., 0., 0., 0., 0., 0., 0., 0., 0., 0., 0., 1., 0., 0., 0., 0.,\n",
              "         0., 0., 0., 0.],\n",
              "        [0., 0., 0., 0., 0., 0., 0., 0., 0., 0., 0., 1., 0., 0., 0., 0.,\n",
              "         0., 0., 0., 0.],\n",
              "        [0., 0., 0., 0., 0., 0., 0., 0., 0., 0., 0., 1., 0., 0., 0., 0.,\n",
              "         0., 0., 0., 0.]], dtype=float32)>, TensorShape([180040, 15]))"
            ]
          },
          "metadata": {},
          "execution_count": 106
        }
      ]
    },
    {
      "cell_type": "markdown",
      "metadata": {
        "id": "0suvj1W3SZLw"
      },
      "source": [
        "## Model with token, character and positional embedding layers"
      ]
    },
    {
      "cell_type": "code",
      "metadata": {
        "colab": {
          "base_uri": "https://localhost:8080/"
        },
        "id": "eOP-FZ9xUlEk",
        "outputId": "4f41664c-e4ec-4ef5-a5c3-0e1e6af5b517"
      },
      "source": [
        "train_line_number_one_hot[0].shape, train_line_number_one_hot[0].dtype"
      ],
      "execution_count": 109,
      "outputs": [
        {
          "output_type": "execute_result",
          "data": {
            "text/plain": [
              "(TensorShape([15]), tf.float32)"
            ]
          },
          "metadata": {},
          "execution_count": 109
        }
      ]
    },
    {
      "cell_type": "code",
      "metadata": {
        "colab": {
          "base_uri": "https://localhost:8080/"
        },
        "id": "8a4vxCaDUlbv",
        "outputId": "158670ae-7d30-4f99-b9b9-bbe09eaa10a4"
      },
      "source": [
        "train_total_line_number_one_hot[0].shape, train_total_line_number_one_hot[0].dtype"
      ],
      "execution_count": 110,
      "outputs": [
        {
          "output_type": "execute_result",
          "data": {
            "text/plain": [
              "(TensorShape([20]), tf.float32)"
            ]
          },
          "metadata": {},
          "execution_count": 110
        }
      ]
    },
    {
      "cell_type": "code",
      "metadata": {
        "id": "256MuQbUSL5I"
      },
      "source": [
        "# 1. token inputs\n",
        "token_inputs = layers.Input(shape=[], dtype=tf.string, name='token_inputs')\n",
        "token_embeddings = tf_hub_embedding_layer(token_inputs)\n",
        "token_outputs = layers.Dense(128, activation='relu')(token_embeddings)\n",
        "token_model = tf.keras.Model(token_inputs, token_outputs)\n",
        "\n",
        "# 2. Charater imputs\n",
        "char_inputs = layers.Input(shape=(1,), dtype=tf.string, name='char_input')\n",
        "char_vectors = char_vectorizer(char_inputs)\n",
        "char_embeddings = char_embedding(char_vectors)\n",
        "char_bi_lstm = layers.Bidirectional(layers.LSTM(24))(char_embeddings)\n",
        "char_model = tf.keras.Model(char_inputs, char_bi_lstm)\n",
        "\n",
        "# 3. model for line_number feature\n",
        "line_number_inputs = layers.Input(shape=(15,), dtype=tf.float32, name='line_numbers_input')\n",
        "line_number_outputs = layers.Dense(32, activation='relu')(line_number_inputs)\n",
        "line_number_model = tf.keras.Model(line_number_inputs, line_number_outputs) \n",
        "\n",
        "# 4. model for total_line feature\n",
        "total_lines_inputs = layers.Input(shape=(20,), dtype=tf.float32, name='total_line_inputs')\n",
        "total_lines_outputs = layers.Dense(32, activation='relu')(total_lines_inputs)\n",
        "total_lines_model = tf.keras.Model(total_lines_inputs, total_lines_outputs)\n",
        "\n",
        "# 5. Concat layer 1 & 2\n",
        "token_char_concat = layers.Concatenate(name='concat_layer')([token_model.output,\n",
        "                                                             char_model.output])\n",
        "\n",
        "# adding one dropout layer\n",
        "z = layers.Dense(256, activation='relu')(token_char_concat)\n",
        "z = layers.Dropout(0.5)(z)\n",
        "\n",
        "# 6. concat layers 3 4 5\n",
        "final_concat = layers.Concatenate(name='final_concat')([\n",
        "    line_number_model.output,\n",
        "    total_lines_model.output,\n",
        "    z\n",
        "])\n",
        "\n",
        "# Output layer\n",
        "output_layer = layers.Dense(num_classes, activation='softmax', name='output_layer')(final_concat)\n",
        "\n",
        "# final model\n",
        "model_5 = tf.keras.Model(\n",
        "    inputs = [\n",
        "              line_number_model.input,\n",
        "              total_lines_model.input,\n",
        "              token_model.input,\n",
        "              char_model.input,\n",
        "    ],\n",
        "    outputs = output_layer\n",
        ")"
      ],
      "execution_count": 112,
      "outputs": []
    },
    {
      "cell_type": "code",
      "metadata": {
        "colab": {
          "base_uri": "https://localhost:8080/"
        },
        "id": "nQE2p8R9WxzO",
        "outputId": "fc43cf37-39ae-47ad-c48b-a1e1a8d5dcc7"
      },
      "source": [
        "model_5.summary()"
      ],
      "execution_count": 113,
      "outputs": [
        {
          "output_type": "stream",
          "name": "stdout",
          "text": [
            "Model: \"model_22\"\n",
            "__________________________________________________________________________________________________\n",
            "Layer (type)                    Output Shape         Param #     Connected to                     \n",
            "==================================================================================================\n",
            "char_input (InputLayer)         [(None, 1)]          0                                            \n",
            "__________________________________________________________________________________________________\n",
            "token_inputs (InputLayer)       [(None,)]            0                                            \n",
            "__________________________________________________________________________________________________\n",
            "text_vectorization_1 (TextVecto (None, 290)          0           char_input[0][0]                 \n",
            "__________________________________________________________________________________________________\n",
            "universal_sentence_encoder (Ker (None, 512)          256797824   token_inputs[0][0]               \n",
            "__________________________________________________________________________________________________\n",
            "char_embed (Embedding)          (None, 290, 25)      700         text_vectorization_1[9][0]       \n",
            "__________________________________________________________________________________________________\n",
            "dense_19 (Dense)                (None, 128)          65664       universal_sentence_encoder[10][0]\n",
            "__________________________________________________________________________________________________\n",
            "bidirectional_5 (Bidirectional) (None, 48)           9600        char_embed[4][0]                 \n",
            "__________________________________________________________________________________________________\n",
            "concat_layer (Concatenate)      (None, 176)          0           dense_19[0][0]                   \n",
            "                                                                 bidirectional_5[0][0]            \n",
            "__________________________________________________________________________________________________\n",
            "line_numbers_input (InputLayer) [(None, 15)]         0                                            \n",
            "__________________________________________________________________________________________________\n",
            "total_line_inputs (InputLayer)  [(None, 20)]         0                                            \n",
            "__________________________________________________________________________________________________\n",
            "dense_22 (Dense)                (None, 256)          45312       concat_layer[0][0]               \n",
            "__________________________________________________________________________________________________\n",
            "dense_20 (Dense)                (None, 32)           512         line_numbers_input[0][0]         \n",
            "__________________________________________________________________________________________________\n",
            "dense_21 (Dense)                (None, 32)           672         total_line_inputs[0][0]          \n",
            "__________________________________________________________________________________________________\n",
            "dropout_3 (Dropout)             (None, 256)          0           dense_22[0][0]                   \n",
            "__________________________________________________________________________________________________\n",
            "final_concat (Concatenate)      (None, 320)          0           dense_20[0][0]                   \n",
            "                                                                 dense_21[0][0]                   \n",
            "                                                                 dropout_3[0][0]                  \n",
            "__________________________________________________________________________________________________\n",
            "output_layer (Dense)            (None, 5)            1605        final_concat[0][0]               \n",
            "==================================================================================================\n",
            "Total params: 256,921,889\n",
            "Trainable params: 124,065\n",
            "Non-trainable params: 256,797,824\n",
            "__________________________________________________________________________________________________\n"
          ]
        }
      ]
    },
    {
      "cell_type": "code",
      "metadata": {
        "id": "ZeSoO-U4W7R5"
      },
      "source": [
        "plot_model(model_5, show_shapes=True)"
      ],
      "execution_count": null,
      "outputs": []
    },
    {
      "cell_type": "code",
      "metadata": {
        "id": "XdcC3drwXMvH"
      },
      "source": [
        "model_5.compile(\n",
        "    loss = tf.keras.losses.CategoricalCrossentropy(label_smoothine=0.2),\n",
        "    optimizer = Adam(),\n",
        "    metrics = ['accuracy']\n",
        ")"
      ],
      "execution_count": null,
      "outputs": []
    }
  ]
}